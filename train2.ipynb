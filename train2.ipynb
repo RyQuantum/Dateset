{
 "cells": [
  {
   "cell_type": "code",
   "execution_count": 14,
   "id": "suitable-shipping",
   "metadata": {},
   "outputs": [],
   "source": [
    "import tensorflow as tf\n",
    "import pandas as pd\n",
    "import matplotlib.pyplot as plt\n",
    "import glob\n",
    "import datetime as dt\n",
    "import os\n",
    "from matplotlib.backends.backend_pdf import PdfPages\n",
    "import statistics\n",
    "import scipy.stats as stats\n",
    "import math\n",
    "import random\n",
    "import numpy as np"
   ]
  },
  {
   "cell_type": "code",
   "execution_count": 19,
   "id": "colonial-alabama",
   "metadata": {},
   "outputs": [],
   "source": [
    "# Importing the Dataset\n",
    "file_names = glob.glob ('./EthernetData/dataset7.csv')\n",
    "k = 0\n",
    "\n",
    "# Change these two variables to get different results\n",
    "#degree change\n",
    "n = 1\n",
    "#operating state\n",
    "op_state = 'Heating'\n",
    "exclude_state = 'Cooling'\n",
    "\n",
    "# Given millisecond utc timestamp return time\n",
    "def tz_from_utc_ms_ts(utc_ms_ts):\n",
    "    \n",
    "    # convert from time stamp to datetime\n",
    "    utc_datetime = dt.datetime.utcfromtimestamp(utc_ms_ts / 1000.)\n",
    "    \n",
    "    # getting time from datetime object\n",
    "    res = utc_datetime.hour + utc_datetime.minute / 60\n",
    "    if res - 5 < 0:\n",
    "        res = 24 + (res - 5)\n",
    "    else:\n",
    "        res = res - 5\n",
    "    return res\n",
    "\n",
    "# Visualising the result as time of day vs cooling time of machine\n",
    "def plot (time_difference, y, temp_change):\n",
    "    fig = plt.figure (k)\n",
    "    ax = plt.subplot ()\n",
    "    plt.bar (y, time_difference, 0.05, align = 'center', alpha = 1)\n",
    "    plt.xlabel ('Time of day')\n",
    "    plt.ylabel ('Time taken for ' + op_state + ' ' + str (temp_change) + ' Degree (in Minutes)')\n",
    "    ax.set_xticks ([0,5,10,15,20,24])\n",
    "    ax.set_xticklabels (['00:00', '05:00', '10:00', '15:00', '20:00', '00:00'])\n",
    "    plt.title (os.path.basename (path))\n",
    "    plt.show ()\n",
    "    pp.savefig (fig)\n",
    "    plt.close (fig)"
   ]
  },
  {
   "cell_type": "code",
   "execution_count": 20,
   "id": "talented-repair",
   "metadata": {},
   "outputs": [],
   "source": [
    "# Finding time required for temparature change...\n",
    "import json\n",
    "data = [[],[],[],[]]\n",
    "\n",
    "def time_to_change_temperature (X, temp_change):\n",
    "    # Time to cool one degree in minutes\n",
    "    time_difference = []\n",
    "    # Factor represts temparature change between cooling/heating on and off.\n",
    "    factor = 1\n",
    "    y = []\n",
    "    curr_temp = 0\n",
    "    i = 0\n",
    "    avg_time_to_change = 0\n",
    "    while i < len(X):\n",
    "\n",
    "        content = json.loads (X.content[i])\n",
    "        if 'status' in content and \"room_temp\" in content[\"status\"]:\n",
    "            curr_temp = content[\"status\"][\"room_temp\"]\n",
    "        \n",
    "        if 'status' in content and \"operating_state\" in content[\"status\"] and content[\"status\"][\"operating_state\"] in [op_state] :\n",
    "            curr_index = i\n",
    "            \n",
    "            hh = tz_from_utc_ms_ts(X.created_date_time[i])\n",
    "            while i < len(X):\n",
    "                content = json.loads (X.content[i])\n",
    "                if 'status' in content and \"room_temp\" in content[\"status\"]:\n",
    "                    if(op_state == \"Cooling\"):\n",
    "                        factor = curr_temp - content[\"status\"][\"room_temp\"]\n",
    "                    else:\n",
    "                        factor =  content[\"status\"][\"room_temp\"] - curr_temp\n",
    "                    \n",
    "                    if( factor == temp_change):\n",
    "#                         print(i+1, curr_temp, content[\"status\"][\"room_temp\"])\n",
    "                        diff = abs((X.created_date_time[i] - X.created_date_time[curr_index])/(60000))\n",
    "                        time_difference.append (diff)\n",
    "                        avg_time_to_change = avg_time_to_change + (diff)\n",
    "                        y.append(hh)\n",
    "                        data[temp_change - 1].append({\"start_temp\": curr_temp, \"temp_change\": temp_change, \"time\":diff})\n",
    "                        break\n",
    "                if 'status' in content and \"operating_state\" in content[\"status\"] and content[\"status\"][\"operating_state\"] in [\"Off\", exclude_state, \"Fan_Only\"]:\n",
    "                    break\n",
    "                i=i+1\n",
    "        i=i+1       \n",
    "\n",
    "    if (time_difference):\n",
    "        mean = (avg_time_to_change/ len(time_difference))\n",
    "        sd = statistics.stdev(time_difference)\n",
    "        print('average time to ' + op_state + ' ' + str(temp_change) +'F: ', mean)\n",
    "        print('Standard deviation ', sd)\n",
    "    plot(time_difference, y, temp_change) \n",
    "    return (mean)"
   ]
  },
  {
   "cell_type": "code",
   "execution_count": 21,
   "id": "ultimate-definition",
   "metadata": {},
   "outputs": [
    {
     "name": "stdout",
     "output_type": "stream",
     "text": [
      "average time to Heating 1F:  2.9458650000000017\n",
      "Standard deviation  0.7687368492498571\n"
     ]
    },
    {
     "data": {
      "image/png": "[encoded data removed]",
      "text/plain": [
       "<Figure size 432x288 with 1 Axes>"
      ]
     },
     "metadata": {
      "needs_background": "light"
     },
     "output_type": "display_data"
    },
    {
     "name": "stdout",
     "output_type": "stream",
     "text": [
      "average time to Heating 2F:  5.489667124183008\n",
      "Standard deviation  0.5523341648749515\n"
     ]
    },
    {
     "data": {
      "image/png": "[encoded data removed]",
      "text/plain": [
       "<Figure size 432x288 with 1 Axes>"
      ]
     },
     "metadata": {
      "needs_background": "light"
     },
     "output_type": "display_data"
    },
    {
     "name": "stdout",
     "output_type": "stream",
     "text": [
      "average time to Heating 3F:  4.441680434782609\n",
      "Standard deviation  2.7624307080511805\n"
     ]
    },
    {
     "data": {
      "image/png": "[encoded data removed]",
      "text/plain": [
       "<Figure size 432x288 with 1 Axes>"
      ]
     },
     "metadata": {
      "needs_background": "light"
     },
     "output_type": "display_data"
    },
    {
     "name": "stdout",
     "output_type": "stream",
     "text": [
      "average time to Heating 4F:  5.560261403508773\n",
      "Standard deviation  3.056895335458195\n"
     ]
    },
    {
     "data": {
      "image/png": "[encoded data removed]",
      "text/plain": [
       "<Figure size 432x288 with 1 Axes>"
      ]
     },
     "metadata": {
      "needs_background": "light"
     },
     "output_type": "display_data"
    },
    {
     "name": "stdout",
     "output_type": "stream",
     "text": [
      "Average time to heat 1F  2.1403310144740586\n",
      " standard deviation  0.8190450736859991\n"
     ]
    }
   ],
   "source": [
    "path = ''\n",
    "pp = PdfPages ('./Plot' + str (n) + '.pdf')\n",
    "\n",
    "for file_name in file_names:\n",
    "    try:\n",
    "      path = file_name\n",
    "      dataset = pd.read_csv ((path))\n",
    "    except:\n",
    "      continue\n",
    "    \n",
    "    X = dataset.iloc[:, :]\n",
    "\n",
    "    avg1 = time_to_change_temperature(X, 1)\n",
    "    avg2 = time_to_change_temperature(X, 2)\n",
    "    avg3 = time_to_change_temperature(X, 3)\n",
    "    avg4 = time_to_change_temperature(X, 4)\n",
    "    avg = (avg1 + avg2/2 + avg3/3 + avg4/4) / 4\n",
    "\n",
    "    print('Average time to heat 1F ', avg)\n",
    "    print(' standard deviation ', statistics.stdev([avg1, avg2/2, avg3/3, avg4/4]))"
   ]
  },
  {
   "cell_type": "code",
   "execution_count": 22,
   "id": "biological-standing",
   "metadata": {},
   "outputs": [
    {
     "data": {
      "text/plain": [
       "<matplotlib.collections.PathCollection at 0x1b8a2dfa4f0>"
      ]
     },
     "execution_count": 22,
     "metadata": {},
     "output_type": "execute_result"
    },
    {
     "data": {
      "image/png": "[encoded data removed]",
      "text/plain": [
       "<Figure size 432x288 with 1 Axes>"
      ]
     },
     "metadata": {
      "needs_background": "light"
     },
     "output_type": "display_data"
    }
   ],
   "source": [
    "# pp.close ()\n",
    "list = []\n",
    "for arr in data:\n",
    "    for elm in arr:\n",
    "        list.append(elm)\n",
    "df = pd.DataFrame(list)\n",
    "plt.scatter(df['temp_change'], df['time'])"
   ]
  },
  {
   "cell_type": "code",
   "execution_count": 28,
   "id": "unnecessary-working",
   "metadata": {},
   "outputs": [],
   "source": [
    "import tensorflow_probability as tfp\n",
    "import tensorflow as tf\n",
    "tfd = tfp.distributions\n",
    "tfpl = tfp.layers\n",
    "\n",
    "model2 = tf.keras.models.Sequential([\n",
    "  tf.keras.layers.Dense(units=1+1, input_shape=(1,)),\n",
    "  tfpl.DistributionLambda(\n",
    "      lambda t: tfd.Normal(loc=t[..., :1],\n",
    "                           scale=tf.math.softplus(t[...,1:]))),\n",
    "])\n",
    "\n",
    "def negative_log_likelihood(y_true, y_pred):\n",
    "\n",
    "    return -y_pred.log_prob(y_true)\n",
    "\n",
    "model2.compile(\n",
    "    optimizer=tf.keras.optimizers.Adam(learning_rate=0.03), \n",
    "    loss=negative_log_likelihood\n",
    ")\n",
    "\n",
    "# class MyModel(tf.keras.Model):\n",
    "#     def __init__(self):\n",
    "#         super(MyModel, self).__init__()\n",
    "#         self.dense = tf.keras.layers.Dense(units=1, activation=None)\n",
    "# #         self.dense2 = tf.keras.layers.Dense(units=1+1, input_shape=(1,))\n",
    "\n",
    "#     def call(self, input_tensor, training=False):\n",
    "#         output = self.dense(input_tensor)\n",
    "# #         d = tf.reshape(input_tensor[:,1], [16, 1])\n",
    "# #         output2 = model(d)\n",
    "#         return output\n",
    "    \n",
    "#     def build_graph(self, input_shape):\n",
    "#         input_shape_nobatch = input_shape[1:]\n",
    "#         self.build(input_shape)\n",
    "#         inputs = tf.keras.Input(shape=input_shape_nobatch)\n",
    "#         if not hasattr(self, 'call'):\n",
    "#             raise AttributeError(\"User should define 'call' method in sub-class model!\")\n",
    "        \n",
    "#         _ = self.call(inputs)\n",
    "        \n",
    "# model = MyModel()\n",
    "# model.build_graph((None,2))\n",
    "# model.summary()"
   ]
  },
  {
   "cell_type": "code",
   "execution_count": 44,
   "id": "boolean-samoa",
   "metadata": {},
   "outputs": [
    {
     "data": {
      "image/png": "[encoded data removed]",
      "text/plain": [
       "<Figure size 432x288 with 1 Axes>"
      ]
     },
     "metadata": {
      "needs_background": "light"
     },
     "output_type": "display_data"
    }
   ],
   "source": [
    "min_len = 10000;\n",
    "for arr in data:\n",
    "    if len(arr) < min_len:\n",
    "        min_len = len(arr)\n",
    "        \n",
    "def data_generator(data):\n",
    "    list = []\n",
    "    for arr in data:\n",
    "        list += random.sample(arr, min_len)\n",
    "\n",
    "    df = pd.DataFrame(list)\n",
    "    X = df.loc[:, ['start_temp', 'temp_change']]\n",
    "    y = df['time']\n",
    "    plt.scatter(df['temp_change'], df['time'])\n",
    "    return X, y\n",
    "\n",
    "def data_generator2(data):\n",
    "    list = []\n",
    "    for arr in data:\n",
    "        list += random.sample(arr, min_len)\n",
    "\n",
    "    df = pd.DataFrame(list)\n",
    "    X = df.loc[:, ['temp_change']]\n",
    "    y = df['time']\n",
    "    plt.scatter(df['temp_change'], df['time'])\n",
    "    return X, y\n",
    "\n",
    "X, y = data_generator(data)"
   ]
  },
  {
   "cell_type": "code",
   "execution_count": 30,
   "id": "photographic-scanner",
   "metadata": {},
   "outputs": [
    {
     "name": "stdout",
     "output_type": "stream",
     "text": [
      "Epoch 1/50\n",
      "22/22 [==============================] - 1s 810us/step - loss: 102.1522\n",
      "Epoch 2/50\n",
      "22/22 [==============================] - 0s 857us/step - loss: 10.9240\n",
      "Epoch 3/50\n",
      "22/22 [==============================] - 0s 952us/step - loss: 5.4191\n",
      "Epoch 4/50\n",
      "22/22 [==============================] - 0s 762us/step - loss: 4.4536\n",
      "Epoch 5/50\n",
      "22/22 [==============================] - 0s 762us/step - loss: 3.8416\n",
      "Epoch 6/50\n",
      "22/22 [==============================] - 0s 809us/step - loss: 3.3769\n",
      "Epoch 7/50\n",
      "22/22 [==============================] - 0s 762us/step - loss: 2.7014\n",
      "Epoch 8/50\n",
      "22/22 [==============================] - 0s 810us/step - loss: 2.5908\n",
      "Epoch 9/50\n",
      "22/22 [==============================] - 0s 809us/step - loss: 2.3481\n",
      "Epoch 10/50\n",
      "22/22 [==============================] - 0s 762us/step - loss: 2.1590\n",
      "Epoch 11/50\n",
      "22/22 [==============================] - 0s 809us/step - loss: 2.1503\n",
      "Epoch 12/50\n",
      "22/22 [==============================] - 0s 857us/step - loss: 1.9630\n",
      "Epoch 13/50\n",
      "22/22 [==============================] - 0s 762us/step - loss: 1.8022\n",
      "Epoch 14/50\n",
      "22/22 [==============================] - 0s 810us/step - loss: 1.8340\n",
      "Epoch 15/50\n",
      "22/22 [==============================] - 0s 810us/step - loss: 1.7786\n",
      "Epoch 16/50\n",
      "22/22 [==============================] - 0s 762us/step - loss: 1.7216\n",
      "Epoch 17/50\n",
      "22/22 [==============================] - 0s 810us/step - loss: 1.7513\n",
      "Epoch 18/50\n",
      "22/22 [==============================] - 0s 762us/step - loss: 1.6784\n",
      "Epoch 19/50\n",
      "22/22 [==============================] - 0s 809us/step - loss: 1.6443\n",
      "Epoch 20/50\n",
      "22/22 [==============================] - 0s 762us/step - loss: 1.6112\n",
      "Epoch 21/50\n",
      "22/22 [==============================] - 0s 762us/step - loss: 1.5342\n",
      "Epoch 22/50\n",
      "22/22 [==============================] - 0s 810us/step - loss: 1.6028\n",
      "Epoch 23/50\n",
      "22/22 [==============================] - 0s 762us/step - loss: 1.5983\n",
      "Epoch 24/50\n",
      "22/22 [==============================] - 0s 762us/step - loss: 1.5534\n",
      "Epoch 25/50\n",
      "22/22 [==============================] - 0s 762us/step - loss: 1.5581\n",
      "Epoch 26/50\n",
      "22/22 [==============================] - 0s 762us/step - loss: 1.4970\n",
      "Epoch 27/50\n",
      "22/22 [==============================] - 0s 762us/step - loss: 1.5513\n",
      "Epoch 28/50\n",
      "22/22 [==============================] - 0s 762us/step - loss: 1.5532\n",
      "Epoch 29/50\n",
      "22/22 [==============================] - 0s 809us/step - loss: 1.5779\n",
      "Epoch 30/50\n",
      "22/22 [==============================] - 0s 762us/step - loss: 1.5495\n",
      "Epoch 31/50\n",
      "22/22 [==============================] - 0s 762us/step - loss: 1.5575\n",
      "Epoch 32/50\n",
      "22/22 [==============================] - 0s 762us/step - loss: 1.5644\n",
      "Epoch 33/50\n",
      "22/22 [==============================] - 0s 762us/step - loss: 1.5332\n",
      "Epoch 34/50\n",
      "22/22 [==============================] - 0s 762us/step - loss: 1.6112\n",
      "Epoch 35/50\n",
      "22/22 [==============================] - 0s 762us/step - loss: 1.5312\n",
      "Epoch 36/50\n",
      "22/22 [==============================] - 0s 762us/step - loss: 1.5270\n",
      "Epoch 37/50\n",
      "22/22 [==============================] - 0s 762us/step - loss: 1.5673\n",
      "Epoch 38/50\n",
      "22/22 [==============================] - 0s 810us/step - loss: 1.6201\n",
      "Epoch 39/50\n",
      "22/22 [==============================] - 0s 762us/step - loss: 1.5298\n",
      "Epoch 40/50\n",
      "22/22 [==============================] - 0s 810us/step - loss: 1.5398\n",
      "Epoch 41/50\n",
      "22/22 [==============================] - 0s 762us/step - loss: 1.5926\n",
      "Epoch 42/50\n",
      "22/22 [==============================] - 0s 762us/step - loss: 1.5178\n",
      "Epoch 43/50\n",
      "22/22 [==============================] - 0s 762us/step - loss: 1.5104\n",
      "Epoch 44/50\n",
      "22/22 [==============================] - 0s 762us/step - loss: 1.5640\n",
      "Epoch 45/50\n",
      "22/22 [==============================] - 0s 762us/step - loss: 1.5488\n",
      "Epoch 46/50\n",
      "22/22 [==============================] - 0s 762us/step - loss: 1.5054\n",
      "Epoch 47/50\n",
      "22/22 [==============================] - 0s 810us/step - loss: 1.5398\n",
      "Epoch 48/50\n",
      "22/22 [==============================] - 0s 762us/step - loss: 1.5181\n",
      "Epoch 49/50\n",
      "22/22 [==============================] - 0s 762us/step - loss: 1.5644\n",
      "Epoch 50/50\n",
      "22/22 [==============================] - 0s 762us/step - loss: 1.5649\n"
     ]
    }
   ],
   "source": [
    "# for i in range(100):\n",
    "#     X, y = data_generator2(data)\n",
    "#     history = model2.fit(X, y, epochs=20)\n",
    "#     model2.fix(X, y, epochs=20)\n",
    "history = model2.fit(df.loc[:, ['temp_change']], df['time'], epochs=50)"
   ]
  },
  {
   "cell_type": "code",
   "execution_count": null,
   "id": "legislative-celebration",
   "metadata": {},
   "outputs": [],
   "source": [
    "model.predict([[70, 1]])"
   ]
  },
  {
   "cell_type": "code",
   "execution_count": null,
   "id": "random-arrest",
   "metadata": {},
   "outputs": [],
   "source": [
    "# x = np.array([[1]])\n",
    "\n",
    "X = df['temp_change']\n",
    "# X\n",
    "y_model = model2(X.to_numpy().reshape((697,1)))\n",
    "y_mean = y_model.mean()\n",
    "y_sd = y_model.stddev()\n",
    "y_mean_m2sd = y_mean - 2 * y_sd\n",
    "y_mean_p2sd = y_mean + 2 * y_sd\n",
    "\n",
    "plt.scatter(X, df['time'], alpha=0.4, label='data')\n",
    "plt.plot(X, y_mean, color='red', alpha=0.8, label='model $\\mu$')\n",
    "plt.plot(X, y_mean_m2sd, color='green', alpha=0.8, label='model $\\mu \\pm 2 \\sigma$')\n",
    "plt.plot(X, y_mean_p2sd, color='green', alpha=0.8)\n",
    "plt.legend()\n",
    "plt.show()"
   ]
  },
  {
   "cell_type": "code",
   "execution_count": null,
   "id": "supreme-outline",
   "metadata": {},
   "outputs": [],
   "source": [
    "model = tf.keras.Sequential()\n",
    "model.add(tf.keras.layers.Dense(1, input_shape=(2,))) \n",
    "# y = w1 * x1 + w2 * x2 + b\n",
    "# x1 = start temperature, x2 = temperature difference, y = time\n",
    "model.summary()"
   ]
  },
  {
   "cell_type": "code",
   "execution_count": null,
   "id": "decent-history",
   "metadata": {},
   "outputs": [],
   "source": [
    "adam = tf.keras.optimizers.Adam(lr=0.03)\n",
    "model.compile(optimizer=adam,\n",
    "             loss='mse'\n",
    ")"
   ]
  },
  {
   "cell_type": "code",
   "execution_count": null,
   "id": "prerequisite-compiler",
   "metadata": {},
   "outputs": [],
   "source": [
    "for i in range(100):\n",
    "    X, y = data_generator(data)\n",
    "    history = model.fit(X, y, epochs=20)"
   ]
  },
  {
   "cell_type": "code",
   "execution_count": null,
   "id": "velvet-today",
   "metadata": {},
   "outputs": [],
   "source": [
    "input = pd.concat([X.head(1), X.tail(1)])\n",
    "output = pd.concat([y.head(1), y.tail(1)])\n",
    "plt.scatter(df['temp_change'], df['time'])\n",
    "plt.plot(input['temp_change'], model.predict(input))\n",
    "plt.show()"
   ]
  },
  {
   "cell_type": "code",
   "execution_count": 31,
   "id": "marked-antibody",
   "metadata": {},
   "outputs": [
    {
     "name": "stdout",
     "output_type": "stream",
     "text": [
      "tf.Tensor([[1.4871304]], shape=(1, 1), dtype=float32)\n",
      "tf.Tensor([[33.6218]], shape=(1, 1), dtype=float32)\n"
     ]
    },
    {
     "data": {
      "image/png": "[encoded data removed]",
      "text/plain": [
       "<Figure size 432x288 with 1 Axes>"
      ]
     },
     "metadata": {
      "needs_background": "light"
     },
     "output_type": "display_data"
    }
   ],
   "source": [
    "X = df['temp_change']\n",
    "y_model = model2(X.to_numpy().reshape((len(df),1)))\n",
    "y_mean = y_model.mean()\n",
    "y_sd = y_model.stddev()\n",
    "y_mean_m2sd = y_mean - 2 * y_sd\n",
    "y_mean_p2sd = y_mean + 2 * y_sd\n",
    "# y_mean_p2sd\n",
    "m = model2(np.array([[4]]))\n",
    "print(m.stddev())\n",
    "print(100 / (2 * m.stddev()))\n",
    "plt.scatter(X, df['time'], alpha=0.4, label='data')\n",
    "plt.plot(X, y_mean, color='red', alpha=0.8, label='model $\\mu$')\n",
    "plt.plot(X, y_mean_m2sd, color='green', alpha=0.8, label='model $\\mu \\pm 2 \\sigma$')\n",
    "plt.plot(X, y_mean_p2sd, color='green', alpha=0.8)\n",
    "plt.legend()\n",
    "plt.show()"
   ]
  },
  {
   "cell_type": "code",
   "execution_count": 18,
   "id": "colonial-pregnancy",
   "metadata": {
    "tags": []
   },
   "outputs": [
    {
     "name": "stdout",
     "output_type": "stream",
     "text": [
      "0.38292508707095707\n"
     ]
    }
   ],
   "source": [
    "import math\n",
    "from __future__ import division\n",
    " \n",
    " \n",
    "def normalcdf(X):\n",
    "    '''\n",
    "    计算正态分布的累积分布函数(Cumulative Distribution Function，CDF)\n",
    "    '''\n",
    "    T=1/(1+.2316419*abs(X))\n",
    "    D=0.3989423*math.exp(-X*X/2)\n",
    "    Prob=D*T*(0.3193815+T*(-0.3565638+T*(1.781478+T*(-1.821256+T*1.330274))))\n",
    "    if X>0:\n",
    "        return 1-Prob\n",
    "    else:\n",
    "        return Prob\n",
    " \n",
    " \n",
    "def zoneProbality(zVal,flag='0-z'):\n",
    "    '''\n",
    "    计算指定区间内的正态分布概率值\n",
    "    '''\n",
    "    if flag=='0-z':\n",
    "        if zVal==0:\n",
    "            return 0\n",
    "        else:\n",
    "            return abs(normalcdf(zVal)-0.5)\n",
    "    elif flag=='inf-z':\n",
    "        if zVal==0:\n",
    "            return 0.5\n",
    "        else:\n",
    "            return normalcdf(zVal)\n",
    "    elif flag=='z-inf':\n",
    "        if zVal==0:\n",
    "            return 0.5\n",
    "        else:\n",
    "            return 1-normalcdf(zVal)\n",
    "    else:\n",
    "        return None\n",
    " \n",
    " \n",
    "def low2upProbality(L=-1.2,U=2.3):\n",
    "    '''\n",
    "    计算给定Z值区间的概率值\n",
    "    '''\n",
    "    small=zoneProbality(L,flag='inf-z')\n",
    "    big=zoneProbality(U,flag='inf-z')\n",
    "    return big-small\n",
    " \n",
    " \n",
    "if __name__=='__main__':\n",
    "    print(zoneProbality(1/2,flag='0-z') * 2)  #0.47558088818\n",
    "#     print(zoneProbality(-1.01,flag='0-z')) #0.343752376611\n",
    " \n",
    " \n",
    "#     print zoneProbality(1.97,flag='inf-z') #0.97558088818\n",
    "#     print zoneProbality(-1.01,flag='inf-z') #0.156247623389\n",
    " \n",
    " \n",
    "#     print zoneProbality(1.97,flag='z-inf') #0.0244191118198\n",
    "#     print zoneProbality(-1.01,flag='z-inf') #0.843752376611\n",
    " \n",
    " \n",
    "#     print low2upProbality(L=-1.01,U=1.97)  #0.819333264791"
   ]
  },
  {
   "cell_type": "code",
   "execution_count": null,
   "id": "disabled-bouquet",
   "metadata": {},
   "outputs": [],
   "source": [
    "# tf.saved_model.save(model, \"mymodel\")\n",
    "# model.save(\"mymodel\")"
   ]
  }
 ],
 "metadata": {
  "kernelspec": {
   "display_name": "Python 3",
   "language": "python",
   "name": "python3"
  },
  "language_info": {
   "codemirror_mode": {
    "name": "ipython",
    "version": 3
   },
   "file_extension": ".py",
   "mimetype": "text/x-python",
   "name": "python",
   "nbconvert_exporter": "python",
   "pygments_lexer": "ipython3",
   "version": "3.8.5"
  }
 },
 "nbformat": 4,
 "nbformat_minor": 5
}
