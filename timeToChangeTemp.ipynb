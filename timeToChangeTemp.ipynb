{
 "cells": [
  {
   "cell_type": "code",
   "execution_count": 1,
   "id": "polish-compiler",
   "metadata": {},
   "outputs": [],
   "source": [
    "import pandas as pd\n",
    "import matplotlib.pyplot as plt\n",
    "import glob\n",
    "import datetime as dt\n",
    "import os\n",
    "from matplotlib.backends.backend_pdf import PdfPages\n",
    "import statistics\n",
    "import scipy.stats as stats\n",
    "import math\n",
    "import tensorflow as tf"
   ]
  },
  {
   "cell_type": "code",
   "execution_count": 2,
   "id": "systematic-jacket",
   "metadata": {},
   "outputs": [],
   "source": [
    "# Importing the Dataset\n",
    "file_names = glob.glob ('./EthernetData/dataset6.csv')\n",
    "k = 0\n",
    "\n",
    "# Change these two variables to get different results\n",
    "#degree change\n",
    "n = 1\n",
    "#operating state\n",
    "op_state = 'Heating'\n",
    "exclude_state = 'Cooling'"
   ]
  },
  {
   "cell_type": "code",
   "execution_count": 3,
   "id": "fifty-translator",
   "metadata": {},
   "outputs": [],
   "source": [
    "# Given millisecond utc timestamp return time\n",
    "def tz_from_utc_ms_ts(utc_ms_ts):\n",
    "    \n",
    "    # convert from time stamp to datetime\n",
    "    utc_datetime = dt.datetime.utcfromtimestamp(utc_ms_ts / 1000.)\n",
    "    \n",
    "    # getting time from datetime object\n",
    "    res = utc_datetime.hour + utc_datetime.minute / 60\n",
    "    if res - 5 < 0:\n",
    "        res = 24 + (res - 5)\n",
    "    else:\n",
    "        res = res - 5\n",
    "    return res"
   ]
  },
  {
   "cell_type": "code",
   "execution_count": 4,
   "id": "aerial-partition",
   "metadata": {},
   "outputs": [],
   "source": [
    "# Visualising the result as time of day vs cooling time of machine\n",
    "def plot (time_difference, y, temp_change):\n",
    "    fig = plt.figure (k)\n",
    "    ax = plt.subplot ()\n",
    "    plt.bar (y, time_difference, 0.05, align = 'center', alpha = 1)\n",
    "    plt.xlabel ('Time of day')\n",
    "    plt.ylabel ('Time taken for ' + op_state + ' ' + str (temp_change) + ' Degree (in Minutes)')\n",
    "    ax.set_xticks ([0,5,10,15,20,24])\n",
    "    ax.set_xticklabels (['00:00', '05:00', '10:00', '15:00', '20:00', '00:00'])\n",
    "    plt.title (os.path.basename (path))\n",
    "    plt.show ()\n",
    "    pp.savefig (fig)\n",
    "    plt.close (fig)"
   ]
  },
  {
   "cell_type": "code",
   "execution_count": 13,
   "id": "confirmed-shower",
   "metadata": {},
   "outputs": [],
   "source": [
    "\n",
    "# Finding time required for temparature change...\n",
    "import json\n",
    "def time_to_change_temperature (X, temp_change):\n",
    "    # Time to cool one degree in minutes\n",
    "    time_difference = []\n",
    "    # Factor represts temparature change between cooling/heating on and off.\n",
    "    factor = 1\n",
    "    y = []\n",
    "    curr_temp = 0\n",
    "    i = 0\n",
    "    avg_time_to_change = 0\n",
    "    while i < len(X):\n",
    "\n",
    "        content = json.loads (X.content[i])\n",
    "        if 'status' in content and \"room_temp\" in content[\"status\"]:\n",
    "            curr_temp = content[\"status\"][\"room_temp\"]\n",
    "        \n",
    "        if 'status' in content and \"operating_state\" in content[\"status\"] and content[\"status\"][\"operating_state\"] in [op_state] :\n",
    "            curr_index = i\n",
    "            \n",
    "            hh = tz_from_utc_ms_ts(X.created_date_time[i])\n",
    "            while i < len(X):\n",
    "                content = json.loads (X.content[i])\n",
    "                if 'status' in content and \"room_temp\" in content[\"status\"]:\n",
    "                    if(op_state == \"Cooling\"):\n",
    "                        factor = curr_temp - content[\"status\"][\"room_temp\"]\n",
    "                    else:\n",
    "                        factor =  content[\"status\"][\"room_temp\"] - curr_temp\n",
    "                    \n",
    "                    if( factor == temp_change):\n",
    "#                       print(i+1, curr_temp, content[\"status\"][\"room_temp\"])\n",
    "                      diff = abs((X.created_date_time[i] - X.created_date_time[curr_index])/(60000))\n",
    "                      time_difference.append (diff)\n",
    "                      avg_time_to_change = avg_time_to_change + (diff)\n",
    "                      y.append(hh)\n",
    "                      break\n",
    "                if 'status' in content and \"operating_state\" in content[\"status\"] and content[\"status\"][\"operating_state\"] in [\"Off\", exclude_state, \"Fan_Only\"]:\n",
    "                    break\n",
    "                i=i+1\n",
    "\n",
    "        i=i+1       \n",
    "    # print((time_difference))\n",
    "    if (time_difference):\n",
    "        mean = (avg_time_to_change/ len(time_difference))\n",
    "        sd = statistics.stdev(time_difference)\n",
    "        print('average time to ' + op_state + ' ' + str(temp_change) +'F: ', mean)\n",
    "        print('Standard deviation ', sd)\n",
    "    plot (time_difference, y, temp_change) \n",
    "    # time_difference.sort()\n",
    "    # pdf1 = stats.norm.pdf(time_difference, (avg_time_to_change/ len(time_difference)), statistics.stdev(time_difference))\n",
    "    # plt.plot(time_difference, pdf1)\n",
    "    return (mean)"
   ]
  },
  {
   "cell_type": "code",
   "execution_count": 14,
   "id": "wooden-volume",
   "metadata": {},
   "outputs": [
    {
     "name": "stdout",
     "output_type": "stream",
     "text": [
      "average time to Heating 1F:  10.387525030750309\n",
      "Standard deviation  1.7025088012933218\n"
     ]
    },
    {
     "data": {
      "image/png": "[encoded data removed]",
      "text/plain": [
       "<Figure size 432x288 with 1 Axes>"
      ]
     },
     "metadata": {
      "needs_background": "light"
     },
     "output_type": "display_data"
    },
    {
     "name": "stdout",
     "output_type": "stream",
     "text": [
      "average time to Heating 2F:  18.26623111111111\n",
      "Standard deviation  3.184160823724819\n"
     ]
    },
    {
     "data": {
      "image/png": "[encoded data removed]",
      "text/plain": [
       "<Figure size 432x288 with 1 Axes>"
      ]
     },
     "metadata": {
      "needs_background": "light"
     },
     "output_type": "display_data"
    },
    {
     "name": "stdout",
     "output_type": "stream",
     "text": [
      "average time to Heating 3F:  23.97619\n",
      "Standard deviation  3.184307623714211\n"
     ]
    },
    {
     "data": {
      "image/png": "[encoded data removed]",
      "text/plain": [
       "<Figure size 432x288 with 1 Axes>"
      ]
     },
     "metadata": {
      "needs_background": "light"
     },
     "output_type": "display_data"
    },
    {
     "name": "stdout",
     "output_type": "stream",
     "text": [
      "average time to Heating 4F:  32.21185\n",
      "Standard deviation  1.385499354157326\n"
     ]
    },
    {
     "data": {
      "image/png": "[encoded data removed]",
      "text/plain": [
       "<Figure size 432x288 with 1 Axes>"
      ]
     },
     "metadata": {
      "needs_background": "light"
     },
     "output_type": "display_data"
    },
    {
     "name": "stdout",
     "output_type": "stream",
     "text": [
      "Average time to heat 1F  8.8914166049098\n",
      " standard deviation  1.1267357569175382\n"
     ]
    }
   ],
   "source": [
    "path = ''\n",
    "pp = PdfPages ('./Plot' + str (n) + '.pdf')\n",
    "\n",
    "for file_name in file_names:\n",
    "    try:\n",
    "      path = file_name\n",
    "      dataset = pd.read_csv ((path))\n",
    "    except:\n",
    "      continue\n",
    "    \n",
    "    X = dataset.iloc[:, :]\n",
    "\n",
    "    avg1 = time_to_change_temperature(X, 1)\n",
    "    avg2 = time_to_change_temperature(X, 2)\n",
    "    avg3 = time_to_change_temperature(X, 3)\n",
    "    avg4 = time_to_change_temperature(X, 4)\n",
    "    avg = (avg1 + avg2/2 + avg3/3 + avg4/4) / 4\n",
    "\n",
    "    print('Average time to heat 1F ', avg)\n",
    "    print(' standard deviation ', statistics.stdev([avg1, avg2/2, avg3/3, avg4/4]))\n",
    "\n",
    "pp.close ()"
   ]
  },
  {
   "cell_type": "code",
   "execution_count": 11,
   "id": "drawn-webcam",
   "metadata": {},
   "outputs": [
    {
     "data": {
      "text/plain": [
       "[1, 1, 1, 1]"
      ]
     },
     "execution_count": 11,
     "metadata": {},
     "output_type": "execute_result"
    }
   ],
   "source": [
    "[1] * 4"
   ]
  },
  {
   "cell_type": "code",
   "execution_count": 17,
   "id": "respected-party",
   "metadata": {},
   "outputs": [
    {
     "data": {
      "text/html": [
       "<div>\n",
       "<style scoped>\n",
       "    .dataframe tbody tr th:only-of-type {\n",
       "        vertical-align: middle;\n",
       "    }\n",
       "\n",
       "    .dataframe tbody tr th {\n",
       "        vertical-align: top;\n",
       "    }\n",
       "\n",
       "    .dataframe thead th {\n",
       "        text-align: right;\n",
       "    }\n",
       "</style>\n",
       "<table border=\"1\" class=\"dataframe\">\n",
       "  <thead>\n",
       "    <tr style=\"text-align: right;\">\n",
       "      <th></th>\n",
       "      <th>created_date_time</th>\n",
       "      <th>content</th>\n",
       "    </tr>\n",
       "  </thead>\n",
       "  <tbody>\n",
       "    <tr>\n",
       "      <th>0</th>\n",
       "      <td>1512592768967</td>\n",
       "      <td>{\"status\":{\"zwave_signal\":null}}</td>\n",
       "    </tr>\n",
       "    <tr>\n",
       "      <th>1</th>\n",
       "      <td>1512592768987</td>\n",
       "      <td>{\"status\":{\"battery\":100}}</td>\n",
       "    </tr>\n",
       "    <tr>\n",
       "      <th>2</th>\n",
       "      <td>1512592769988</td>\n",
       "      <td>{\"status\":{\"room_temp\":74}}</td>\n",
       "    </tr>\n",
       "    <tr>\n",
       "      <th>3</th>\n",
       "      <td>1512592776160</td>\n",
       "      <td>{\"status\":{\"battery\":100}}</td>\n",
       "    </tr>\n",
       "    <tr>\n",
       "      <th>4</th>\n",
       "      <td>1512592777320</td>\n",
       "      <td>{\"status\":{\"fan\":\"auto\",\"source\":\"physical\",\"h...</td>\n",
       "    </tr>\n",
       "    <tr>\n",
       "      <th>...</th>\n",
       "      <td>...</td>\n",
       "      <td>...</td>\n",
       "    </tr>\n",
       "    <tr>\n",
       "      <th>2546</th>\n",
       "      <td>1515643868747</td>\n",
       "      <td>{\"status\":{\"operating_state\":\"Heating\"}}</td>\n",
       "    </tr>\n",
       "    <tr>\n",
       "      <th>2547</th>\n",
       "      <td>1515644467736</td>\n",
       "      <td>{\"status\":{\"room_temp\":72}}</td>\n",
       "    </tr>\n",
       "    <tr>\n",
       "      <th>2548</th>\n",
       "      <td>1515644468774</td>\n",
       "      <td>{\"status\":{\"operating_state\":\"Pending_Heat\"}}</td>\n",
       "    </tr>\n",
       "    <tr>\n",
       "      <th>2549</th>\n",
       "      <td>1515644794612</td>\n",
       "      <td>{\"status\":{\"operating_state\":\"Fan_Only\"}}</td>\n",
       "    </tr>\n",
       "    <tr>\n",
       "      <th>2550</th>\n",
       "      <td>1515646984670</td>\n",
       "      <td>{\"status\":{\"room_temp\":72}}</td>\n",
       "    </tr>\n",
       "  </tbody>\n",
       "</table>\n",
       "<p>2551 rows × 2 columns</p>\n",
       "</div>"
      ],
      "text/plain": [
       "      created_date_time                                            content\n",
       "0         1512592768967                   {\"status\":{\"zwave_signal\":null}}\n",
       "1         1512592768987                         {\"status\":{\"battery\":100}}\n",
       "2         1512592769988                        {\"status\":{\"room_temp\":74}}\n",
       "3         1512592776160                         {\"status\":{\"battery\":100}}\n",
       "4         1512592777320  {\"status\":{\"fan\":\"auto\",\"source\":\"physical\",\"h...\n",
       "...                 ...                                                ...\n",
       "2546      1515643868747           {\"status\":{\"operating_state\":\"Heating\"}}\n",
       "2547      1515644467736                        {\"status\":{\"room_temp\":72}}\n",
       "2548      1515644468774      {\"status\":{\"operating_state\":\"Pending_Heat\"}}\n",
       "2549      1515644794612          {\"status\":{\"operating_state\":\"Fan_Only\"}}\n",
       "2550      1515646984670                        {\"status\":{\"room_temp\":72}}\n",
       "\n",
       "[2551 rows x 2 columns]"
      ]
     },
     "execution_count": 17,
     "metadata": {},
     "output_type": "execute_result"
    }
   ],
   "source": [
    "dataset"
   ]
  },
  {
   "cell_type": "code",
   "execution_count": null,
   "id": "fundamental-broad",
   "metadata": {},
   "outputs": [],
   "source": []
  }
 ],
 "metadata": {
  "kernelspec": {
   "display_name": "Python 3",
   "language": "python",
   "name": "python3"
  },
  "language_info": {
   "codemirror_mode": {
    "name": "ipython",
    "version": 3
   },
   "file_extension": ".py",
   "mimetype": "text/x-python",
   "name": "python",
   "nbconvert_exporter": "python",
   "pygments_lexer": "ipython3",
   "version": "3.8.6"
  }
 },
 "nbformat": 4,
 "nbformat_minor": 5
}
